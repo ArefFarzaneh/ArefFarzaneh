{
 "cells": [
  {
   "cell_type": "code",
   "execution_count": 1,
   "id": "70c0e43c",
   "metadata": {
    "_cell_guid": "b1076dfc-b9ad-4769-8c92-a6c4dae69d19",
    "_uuid": "8f2839f25d086af736a60e9eeb907d3b93b6e0e5",
    "execution": {
     "iopub.execute_input": "2022-07-20T03:51:22.099075Z",
     "iopub.status.busy": "2022-07-20T03:51:22.098372Z",
     "iopub.status.idle": "2022-07-20T03:51:23.731879Z",
     "shell.execute_reply": "2022-07-20T03:51:23.730320Z"
    },
    "papermill": {
     "duration": 1.647774,
     "end_time": "2022-07-20T03:51:23.735656",
     "exception": false,
     "start_time": "2022-07-20T03:51:22.087882",
     "status": "completed"
    },
    "tags": []
   },
   "outputs": [
    {
     "name": "stdout",
     "output_type": "stream",
     "text": [
      "/kaggle/input/titanic/train.csv\n",
      "/kaggle/input/titanic/test.csv\n",
      "/kaggle/input/titanic/gender_submission.csv\n"
     ]
    }
   ],
   "source": [
    "import numpy as np\n",
    "from numpy import mean\n",
    "from numpy import std\n",
    "import pandas as pd \n",
    "import matplotlib.pyplot as plt\n",
    "import seaborn as sns\n",
    "sns.set()\n",
    "from sklearn.preprocessing import StandardScaler\n",
    "from sklearn.ensemble import RandomForestClassifier\n",
    "from sklearn.model_selection import train_test_split\n",
    "from sklearn.model_selection import GridSearchCV\n",
    "from sklearn.metrics import accuracy_score,classification_report,confusion_matrix\n",
    "from sklearn.linear_model import LogisticRegression\n",
    "import warnings\n",
    "warnings.filterwarnings('ignore')\n",
    "import os\n",
    "for dirname, _, filenames in os.walk('/kaggle/input'):\n",
    "    for filename in filenames:\n",
    "        print(os.path.join(dirname, filename))\n"
   ]
  },
  {
   "cell_type": "code",
   "execution_count": 2,
   "id": "33881ebf",
   "metadata": {
    "execution": {
     "iopub.execute_input": "2022-07-20T03:51:23.754175Z",
     "iopub.status.busy": "2022-07-20T03:51:23.753065Z",
     "iopub.status.idle": "2022-07-20T03:51:23.790962Z",
     "shell.execute_reply": "2022-07-20T03:51:23.789873Z"
    },
    "papermill": {
     "duration": 0.04963,
     "end_time": "2022-07-20T03:51:23.793493",
     "exception": false,
     "start_time": "2022-07-20T03:51:23.743863",
     "status": "completed"
    },
    "tags": []
   },
   "outputs": [
    {
     "data": {
      "text/html": [
       "<div>\n",
       "<style scoped>\n",
       "    .dataframe tbody tr th:only-of-type {\n",
       "        vertical-align: middle;\n",
       "    }\n",
       "\n",
       "    .dataframe tbody tr th {\n",
       "        vertical-align: top;\n",
       "    }\n",
       "\n",
       "    .dataframe thead th {\n",
       "        text-align: right;\n",
       "    }\n",
       "</style>\n",
       "<table border=\"1\" class=\"dataframe\">\n",
       "  <thead>\n",
       "    <tr style=\"text-align: right;\">\n",
       "      <th></th>\n",
       "      <th>PassengerId</th>\n",
       "      <th>Survived</th>\n",
       "      <th>Pclass</th>\n",
       "      <th>Name</th>\n",
       "      <th>Sex</th>\n",
       "      <th>Age</th>\n",
       "      <th>SibSp</th>\n",
       "      <th>Parch</th>\n",
       "      <th>Ticket</th>\n",
       "      <th>Fare</th>\n",
       "      <th>Cabin</th>\n",
       "      <th>Embarked</th>\n",
       "    </tr>\n",
       "  </thead>\n",
       "  <tbody>\n",
       "    <tr>\n",
       "      <th>0</th>\n",
       "      <td>1</td>\n",
       "      <td>0</td>\n",
       "      <td>3</td>\n",
       "      <td>Braund, Mr. Owen Harris</td>\n",
       "      <td>male</td>\n",
       "      <td>22.0</td>\n",
       "      <td>1</td>\n",
       "      <td>0</td>\n",
       "      <td>A/5 21171</td>\n",
       "      <td>7.2500</td>\n",
       "      <td>NaN</td>\n",
       "      <td>S</td>\n",
       "    </tr>\n",
       "    <tr>\n",
       "      <th>1</th>\n",
       "      <td>2</td>\n",
       "      <td>1</td>\n",
       "      <td>1</td>\n",
       "      <td>Cumings, Mrs. John Bradley (Florence Briggs Th...</td>\n",
       "      <td>female</td>\n",
       "      <td>38.0</td>\n",
       "      <td>1</td>\n",
       "      <td>0</td>\n",
       "      <td>PC 17599</td>\n",
       "      <td>71.2833</td>\n",
       "      <td>C85</td>\n",
       "      <td>C</td>\n",
       "    </tr>\n",
       "    <tr>\n",
       "      <th>2</th>\n",
       "      <td>3</td>\n",
       "      <td>1</td>\n",
       "      <td>3</td>\n",
       "      <td>Heikkinen, Miss. Laina</td>\n",
       "      <td>female</td>\n",
       "      <td>26.0</td>\n",
       "      <td>0</td>\n",
       "      <td>0</td>\n",
       "      <td>STON/O2. 3101282</td>\n",
       "      <td>7.9250</td>\n",
       "      <td>NaN</td>\n",
       "      <td>S</td>\n",
       "    </tr>\n",
       "    <tr>\n",
       "      <th>3</th>\n",
       "      <td>4</td>\n",
       "      <td>1</td>\n",
       "      <td>1</td>\n",
       "      <td>Futrelle, Mrs. Jacques Heath (Lily May Peel)</td>\n",
       "      <td>female</td>\n",
       "      <td>35.0</td>\n",
       "      <td>1</td>\n",
       "      <td>0</td>\n",
       "      <td>113803</td>\n",
       "      <td>53.1000</td>\n",
       "      <td>C123</td>\n",
       "      <td>S</td>\n",
       "    </tr>\n",
       "    <tr>\n",
       "      <th>4</th>\n",
       "      <td>5</td>\n",
       "      <td>0</td>\n",
       "      <td>3</td>\n",
       "      <td>Allen, Mr. William Henry</td>\n",
       "      <td>male</td>\n",
       "      <td>35.0</td>\n",
       "      <td>0</td>\n",
       "      <td>0</td>\n",
       "      <td>373450</td>\n",
       "      <td>8.0500</td>\n",
       "      <td>NaN</td>\n",
       "      <td>S</td>\n",
       "    </tr>\n",
       "  </tbody>\n",
       "</table>\n",
       "</div>"
      ],
      "text/plain": [
       "   PassengerId  Survived  Pclass  \\\n",
       "0            1         0       3   \n",
       "1            2         1       1   \n",
       "2            3         1       3   \n",
       "3            4         1       1   \n",
       "4            5         0       3   \n",
       "\n",
       "                                                Name     Sex   Age  SibSp  \\\n",
       "0                            Braund, Mr. Owen Harris    male  22.0      1   \n",
       "1  Cumings, Mrs. John Bradley (Florence Briggs Th...  female  38.0      1   \n",
       "2                             Heikkinen, Miss. Laina  female  26.0      0   \n",
       "3       Futrelle, Mrs. Jacques Heath (Lily May Peel)  female  35.0      1   \n",
       "4                           Allen, Mr. William Henry    male  35.0      0   \n",
       "\n",
       "   Parch            Ticket     Fare Cabin Embarked  \n",
       "0      0         A/5 21171   7.2500   NaN        S  \n",
       "1      0          PC 17599  71.2833   C85        C  \n",
       "2      0  STON/O2. 3101282   7.9250   NaN        S  \n",
       "3      0            113803  53.1000  C123        S  \n",
       "4      0            373450   8.0500   NaN        S  "
      ]
     },
     "execution_count": 2,
     "metadata": {},
     "output_type": "execute_result"
    }
   ],
   "source": [
    "train = pd.read_csv('../input/titanic/train.csv')\n",
    "train.head()"
   ]
  },
  {
   "cell_type": "code",
   "execution_count": 3,
   "id": "27be8798",
   "metadata": {
    "execution": {
     "iopub.execute_input": "2022-07-20T03:51:23.812055Z",
     "iopub.status.busy": "2022-07-20T03:51:23.811338Z",
     "iopub.status.idle": "2022-07-20T03:51:23.825137Z",
     "shell.execute_reply": "2022-07-20T03:51:23.824287Z"
    },
    "papermill": {
     "duration": 0.025288,
     "end_time": "2022-07-20T03:51:23.827301",
     "exception": false,
     "start_time": "2022-07-20T03:51:23.802013",
     "status": "completed"
    },
    "tags": []
   },
   "outputs": [],
   "source": [
    "del train['PassengerId'],train['Name'],train['Ticket'],train['Cabin']"
   ]
  },
  {
   "cell_type": "code",
   "execution_count": 4,
   "id": "846933f0",
   "metadata": {
    "execution": {
     "iopub.execute_input": "2022-07-20T03:51:23.845436Z",
     "iopub.status.busy": "2022-07-20T03:51:23.845056Z",
     "iopub.status.idle": "2022-07-20T03:51:24.111136Z",
     "shell.execute_reply": "2022-07-20T03:51:24.109853Z"
    },
    "papermill": {
     "duration": 0.278227,
     "end_time": "2022-07-20T03:51:24.113682",
     "exception": false,
     "start_time": "2022-07-20T03:51:23.835455",
     "status": "completed"
    },
    "tags": []
   },
   "outputs": [
    {
     "data": {
      "text/plain": [
       "<AxesSubplot:xlabel='Age', ylabel='Density'>"
      ]
     },
     "execution_count": 4,
     "metadata": {},
     "output_type": "execute_result"
    },
    {
     "data": {
      "image/png": "[encoded data removed]",
      "text/plain": [
       "<Figure size 432x288 with 1 Axes>"
      ]
     },
     "metadata": {},
     "output_type": "display_data"
    }
   ],
   "source": [
    "sns.distplot(train.Age)"
   ]
  },
  {
   "cell_type": "code",
   "execution_count": 5,
   "id": "584cdc97",
   "metadata": {
    "execution": {
     "iopub.execute_input": "2022-07-20T03:51:24.134271Z",
     "iopub.status.busy": "2022-07-20T03:51:24.133585Z",
     "iopub.status.idle": "2022-07-20T03:51:24.166983Z",
     "shell.execute_reply": "2022-07-20T03:51:24.166057Z"
    },
    "papermill": {
     "duration": 0.046644,
     "end_time": "2022-07-20T03:51:24.169368",
     "exception": false,
     "start_time": "2022-07-20T03:51:24.122724",
     "status": "completed"
    },
    "tags": []
   },
   "outputs": [
    {
     "data": {
      "text/html": [
       "<div>\n",
       "<style scoped>\n",
       "    .dataframe tbody tr th:only-of-type {\n",
       "        vertical-align: middle;\n",
       "    }\n",
       "\n",
       "    .dataframe tbody tr th {\n",
       "        vertical-align: top;\n",
       "    }\n",
       "\n",
       "    .dataframe thead th {\n",
       "        text-align: right;\n",
       "    }\n",
       "</style>\n",
       "<table border=\"1\" class=\"dataframe\">\n",
       "  <thead>\n",
       "    <tr style=\"text-align: right;\">\n",
       "      <th></th>\n",
       "      <th>Survived</th>\n",
       "      <th>Pclass</th>\n",
       "      <th>Sex</th>\n",
       "      <th>Age</th>\n",
       "      <th>SibSp</th>\n",
       "      <th>Parch</th>\n",
       "      <th>Fare</th>\n",
       "      <th>Embarked</th>\n",
       "    </tr>\n",
       "  </thead>\n",
       "  <tbody>\n",
       "    <tr>\n",
       "      <th>count</th>\n",
       "      <td>891.000000</td>\n",
       "      <td>891.000000</td>\n",
       "      <td>891</td>\n",
       "      <td>714.000000</td>\n",
       "      <td>891.000000</td>\n",
       "      <td>891.000000</td>\n",
       "      <td>891.000000</td>\n",
       "      <td>889</td>\n",
       "    </tr>\n",
       "    <tr>\n",
       "      <th>unique</th>\n",
       "      <td>NaN</td>\n",
       "      <td>NaN</td>\n",
       "      <td>2</td>\n",
       "      <td>NaN</td>\n",
       "      <td>NaN</td>\n",
       "      <td>NaN</td>\n",
       "      <td>NaN</td>\n",
       "      <td>3</td>\n",
       "    </tr>\n",
       "    <tr>\n",
       "      <th>top</th>\n",
       "      <td>NaN</td>\n",
       "      <td>NaN</td>\n",
       "      <td>male</td>\n",
       "      <td>NaN</td>\n",
       "      <td>NaN</td>\n",
       "      <td>NaN</td>\n",
       "      <td>NaN</td>\n",
       "      <td>S</td>\n",
       "    </tr>\n",
       "    <tr>\n",
       "      <th>freq</th>\n",
       "      <td>NaN</td>\n",
       "      <td>NaN</td>\n",
       "      <td>577</td>\n",
       "      <td>NaN</td>\n",
       "      <td>NaN</td>\n",
       "      <td>NaN</td>\n",
       "      <td>NaN</td>\n",
       "      <td>644</td>\n",
       "    </tr>\n",
       "    <tr>\n",
       "      <th>mean</th>\n",
       "      <td>0.383838</td>\n",
       "      <td>2.308642</td>\n",
       "      <td>NaN</td>\n",
       "      <td>29.699118</td>\n",
       "      <td>0.523008</td>\n",
       "      <td>0.381594</td>\n",
       "      <td>32.204208</td>\n",
       "      <td>NaN</td>\n",
       "    </tr>\n",
       "    <tr>\n",
       "      <th>std</th>\n",
       "      <td>0.486592</td>\n",
       "      <td>0.836071</td>\n",
       "      <td>NaN</td>\n",
       "      <td>14.526497</td>\n",
       "      <td>1.102743</td>\n",
       "      <td>0.806057</td>\n",
       "      <td>49.693429</td>\n",
       "      <td>NaN</td>\n",
       "    </tr>\n",
       "    <tr>\n",
       "      <th>min</th>\n",
       "      <td>0.000000</td>\n",
       "      <td>1.000000</td>\n",
       "      <td>NaN</td>\n",
       "      <td>0.420000</td>\n",
       "      <td>0.000000</td>\n",
       "      <td>0.000000</td>\n",
       "      <td>0.000000</td>\n",
       "      <td>NaN</td>\n",
       "    </tr>\n",
       "    <tr>\n",
       "      <th>25%</th>\n",
       "      <td>0.000000</td>\n",
       "      <td>2.000000</td>\n",
       "      <td>NaN</td>\n",
       "      <td>20.125000</td>\n",
       "      <td>0.000000</td>\n",
       "      <td>0.000000</td>\n",
       "      <td>7.910400</td>\n",
       "      <td>NaN</td>\n",
       "    </tr>\n",
       "    <tr>\n",
       "      <th>50%</th>\n",
       "      <td>0.000000</td>\n",
       "      <td>3.000000</td>\n",
       "      <td>NaN</td>\n",
       "      <td>28.000000</td>\n",
       "      <td>0.000000</td>\n",
       "      <td>0.000000</td>\n",
       "      <td>14.454200</td>\n",
       "      <td>NaN</td>\n",
       "    </tr>\n",
       "    <tr>\n",
       "      <th>75%</th>\n",
       "      <td>1.000000</td>\n",
       "      <td>3.000000</td>\n",
       "      <td>NaN</td>\n",
       "      <td>38.000000</td>\n",
       "      <td>1.000000</td>\n",
       "      <td>0.000000</td>\n",
       "      <td>31.000000</td>\n",
       "      <td>NaN</td>\n",
       "    </tr>\n",
       "    <tr>\n",
       "      <th>max</th>\n",
       "      <td>1.000000</td>\n",
       "      <td>3.000000</td>\n",
       "      <td>NaN</td>\n",
       "      <td>80.000000</td>\n",
       "      <td>8.000000</td>\n",
       "      <td>6.000000</td>\n",
       "      <td>512.329200</td>\n",
       "      <td>NaN</td>\n",
       "    </tr>\n",
       "  </tbody>\n",
       "</table>\n",
       "</div>"
      ],
      "text/plain": [
       "          Survived      Pclass   Sex         Age       SibSp       Parch  \\\n",
       "count   891.000000  891.000000   891  714.000000  891.000000  891.000000   \n",
       "unique         NaN         NaN     2         NaN         NaN         NaN   \n",
       "top            NaN         NaN  male         NaN         NaN         NaN   \n",
       "freq           NaN         NaN   577         NaN         NaN         NaN   \n",
       "mean      0.383838    2.308642   NaN   29.699118    0.523008    0.381594   \n",
       "std       0.486592    0.836071   NaN   14.526497    1.102743    0.806057   \n",
       "min       0.000000    1.000000   NaN    0.420000    0.000000    0.000000   \n",
       "25%       0.000000    2.000000   NaN   20.125000    0.000000    0.000000   \n",
       "50%       0.000000    3.000000   NaN   28.000000    0.000000    0.000000   \n",
       "75%       1.000000    3.000000   NaN   38.000000    1.000000    0.000000   \n",
       "max       1.000000    3.000000   NaN   80.000000    8.000000    6.000000   \n",
       "\n",
       "              Fare Embarked  \n",
       "count   891.000000      889  \n",
       "unique         NaN        3  \n",
       "top            NaN        S  \n",
       "freq           NaN      644  \n",
       "mean     32.204208      NaN  \n",
       "std      49.693429      NaN  \n",
       "min       0.000000      NaN  \n",
       "25%       7.910400      NaN  \n",
       "50%      14.454200      NaN  \n",
       "75%      31.000000      NaN  \n",
       "max     512.329200      NaN  "
      ]
     },
     "execution_count": 5,
     "metadata": {},
     "output_type": "execute_result"
    }
   ],
   "source": [
    "train.describe(include='all')"
   ]
  },
  {
   "cell_type": "code",
   "execution_count": 6,
   "id": "3b62b633",
   "metadata": {
    "execution": {
     "iopub.execute_input": "2022-07-20T03:51:24.190030Z",
     "iopub.status.busy": "2022-07-20T03:51:24.189377Z",
     "iopub.status.idle": "2022-07-20T03:51:24.198757Z",
     "shell.execute_reply": "2022-07-20T03:51:24.197798Z"
    },
    "papermill": {
     "duration": 0.021978,
     "end_time": "2022-07-20T03:51:24.200937",
     "exception": false,
     "start_time": "2022-07-20T03:51:24.178959",
     "status": "completed"
    },
    "tags": []
   },
   "outputs": [
    {
     "data": {
      "text/plain": [
       "Survived      0\n",
       "Pclass        0\n",
       "Sex           0\n",
       "Age         177\n",
       "SibSp         0\n",
       "Parch         0\n",
       "Fare          0\n",
       "Embarked      2\n",
       "dtype: int64"
      ]
     },
     "execution_count": 6,
     "metadata": {},
     "output_type": "execute_result"
    }
   ],
   "source": [
    "train.isnull().sum()"
   ]
  },
  {
   "cell_type": "code",
   "execution_count": 7,
   "id": "a9023572",
   "metadata": {
    "execution": {
     "iopub.execute_input": "2022-07-20T03:51:24.220949Z",
     "iopub.status.busy": "2022-07-20T03:51:24.220320Z",
     "iopub.status.idle": "2022-07-20T03:51:24.226317Z",
     "shell.execute_reply": "2022-07-20T03:51:24.225530Z"
    },
    "papermill": {
     "duration": 0.018728,
     "end_time": "2022-07-20T03:51:24.228411",
     "exception": false,
     "start_time": "2022-07-20T03:51:24.209683",
     "status": "completed"
    },
    "tags": []
   },
   "outputs": [],
   "source": [
    "train.Age.fillna(train.Age.mean(),inplace = True)"
   ]
  },
  {
   "cell_type": "code",
   "execution_count": 8,
   "id": "765112e2",
   "metadata": {
    "execution": {
     "iopub.execute_input": "2022-07-20T03:51:24.249007Z",
     "iopub.status.busy": "2022-07-20T03:51:24.248302Z",
     "iopub.status.idle": "2022-07-20T03:51:24.255888Z",
     "shell.execute_reply": "2022-07-20T03:51:24.254719Z"
    },
    "papermill": {
     "duration": 0.020819,
     "end_time": "2022-07-20T03:51:24.258295",
     "exception": false,
     "start_time": "2022-07-20T03:51:24.237476",
     "status": "completed"
    },
    "tags": []
   },
   "outputs": [
    {
     "data": {
      "text/plain": [
       "S    644\n",
       "C    168\n",
       "Q     77\n",
       "Name: Embarked, dtype: int64"
      ]
     },
     "execution_count": 8,
     "metadata": {},
     "output_type": "execute_result"
    }
   ],
   "source": [
    "train.Embarked.value_counts()"
   ]
  },
  {
   "cell_type": "code",
   "execution_count": 9,
   "id": "f3d5a0a2",
   "metadata": {
    "execution": {
     "iopub.execute_input": "2022-07-20T03:51:24.278433Z",
     "iopub.status.busy": "2022-07-20T03:51:24.278005Z",
     "iopub.status.idle": "2022-07-20T03:51:24.284186Z",
     "shell.execute_reply": "2022-07-20T03:51:24.283064Z"
    },
    "papermill": {
     "duration": 0.019387,
     "end_time": "2022-07-20T03:51:24.286669",
     "exception": false,
     "start_time": "2022-07-20T03:51:24.267282",
     "status": "completed"
    },
    "tags": []
   },
   "outputs": [],
   "source": [
    "train.Embarked = train.Embarked.replace(np.NaN,'S')"
   ]
  },
  {
   "cell_type": "code",
   "execution_count": 10,
   "id": "954f990a",
   "metadata": {
    "execution": {
     "iopub.execute_input": "2022-07-20T03:51:24.306812Z",
     "iopub.status.busy": "2022-07-20T03:51:24.306407Z",
     "iopub.status.idle": "2022-07-20T03:51:24.317710Z",
     "shell.execute_reply": "2022-07-20T03:51:24.316400Z"
    },
    "papermill": {
     "duration": 0.024448,
     "end_time": "2022-07-20T03:51:24.320180",
     "exception": false,
     "start_time": "2022-07-20T03:51:24.295732",
     "status": "completed"
    },
    "tags": []
   },
   "outputs": [
    {
     "data": {
      "text/plain": [
       "Survived    0\n",
       "Pclass      0\n",
       "Sex         0\n",
       "Age         0\n",
       "SibSp       0\n",
       "Parch       0\n",
       "Fare        0\n",
       "Embarked    0\n",
       "dtype: int64"
      ]
     },
     "execution_count": 10,
     "metadata": {},
     "output_type": "execute_result"
    }
   ],
   "source": [
    "train.isnull().sum()"
   ]
  },
  {
   "cell_type": "code",
   "execution_count": 11,
   "id": "bfca29a5",
   "metadata": {
    "execution": {
     "iopub.execute_input": "2022-07-20T03:51:24.340693Z",
     "iopub.status.busy": "2022-07-20T03:51:24.340286Z",
     "iopub.status.idle": "2022-07-20T03:51:24.348120Z",
     "shell.execute_reply": "2022-07-20T03:51:24.347005Z"
    },
    "papermill": {
     "duration": 0.020695,
     "end_time": "2022-07-20T03:51:24.350434",
     "exception": false,
     "start_time": "2022-07-20T03:51:24.329739",
     "status": "completed"
    },
    "tags": []
   },
   "outputs": [
    {
     "data": {
      "text/plain": [
       "Survived      int64\n",
       "Pclass        int64\n",
       "Sex          object\n",
       "Age         float64\n",
       "SibSp         int64\n",
       "Parch         int64\n",
       "Fare        float64\n",
       "Embarked     object\n",
       "dtype: object"
      ]
     },
     "execution_count": 11,
     "metadata": {},
     "output_type": "execute_result"
    }
   ],
   "source": [
    "train.dtypes"
   ]
  },
  {
   "cell_type": "code",
   "execution_count": 12,
   "id": "6ae88ab8",
   "metadata": {
    "execution": {
     "iopub.execute_input": "2022-07-20T03:51:24.370261Z",
     "iopub.status.busy": "2022-07-20T03:51:24.369859Z",
     "iopub.status.idle": "2022-07-20T03:51:24.376402Z",
     "shell.execute_reply": "2022-07-20T03:51:24.375305Z"
    },
    "papermill": {
     "duration": 0.019059,
     "end_time": "2022-07-20T03:51:24.378520",
     "exception": false,
     "start_time": "2022-07-20T03:51:24.359461",
     "status": "completed"
    },
    "tags": []
   },
   "outputs": [],
   "source": [
    "train.Sex = train.Sex.map({'male':1,'female':0})"
   ]
  },
  {
   "cell_type": "code",
   "execution_count": 13,
   "id": "1a7ae625",
   "metadata": {
    "execution": {
     "iopub.execute_input": "2022-07-20T03:51:24.398459Z",
     "iopub.status.busy": "2022-07-20T03:51:24.398099Z",
     "iopub.status.idle": "2022-07-20T03:51:24.407338Z",
     "shell.execute_reply": "2022-07-20T03:51:24.406139Z"
    },
    "papermill": {
     "duration": 0.022237,
     "end_time": "2022-07-20T03:51:24.409790",
     "exception": false,
     "start_time": "2022-07-20T03:51:24.387553",
     "status": "completed"
    },
    "tags": []
   },
   "outputs": [],
   "source": [
    "train = pd.get_dummies(train,columns=['Embarked'],drop_first=True)"
   ]
  },
  {
   "cell_type": "code",
   "execution_count": 14,
   "id": "cd4dc4d0",
   "metadata": {
    "execution": {
     "iopub.execute_input": "2022-07-20T03:51:24.429802Z",
     "iopub.status.busy": "2022-07-20T03:51:24.429359Z",
     "iopub.status.idle": "2022-07-20T03:51:24.442256Z",
     "shell.execute_reply": "2022-07-20T03:51:24.441204Z"
    },
    "papermill": {
     "duration": 0.025845,
     "end_time": "2022-07-20T03:51:24.444726",
     "exception": false,
     "start_time": "2022-07-20T03:51:24.418881",
     "status": "completed"
    },
    "tags": []
   },
   "outputs": [
    {
     "data": {
      "text/html": [
       "<div>\n",
       "<style scoped>\n",
       "    .dataframe tbody tr th:only-of-type {\n",
       "        vertical-align: middle;\n",
       "    }\n",
       "\n",
       "    .dataframe tbody tr th {\n",
       "        vertical-align: top;\n",
       "    }\n",
       "\n",
       "    .dataframe thead th {\n",
       "        text-align: right;\n",
       "    }\n",
       "</style>\n",
       "<table border=\"1\" class=\"dataframe\">\n",
       "  <thead>\n",
       "    <tr style=\"text-align: right;\">\n",
       "      <th></th>\n",
       "      <th>Survived</th>\n",
       "      <th>Pclass</th>\n",
       "      <th>Sex</th>\n",
       "      <th>Age</th>\n",
       "      <th>SibSp</th>\n",
       "      <th>Parch</th>\n",
       "      <th>Fare</th>\n",
       "      <th>Embarked_Q</th>\n",
       "      <th>Embarked_S</th>\n",
       "    </tr>\n",
       "  </thead>\n",
       "  <tbody>\n",
       "    <tr>\n",
       "      <th>0</th>\n",
       "      <td>0</td>\n",
       "      <td>3</td>\n",
       "      <td>1</td>\n",
       "      <td>22.0</td>\n",
       "      <td>1</td>\n",
       "      <td>0</td>\n",
       "      <td>7.2500</td>\n",
       "      <td>0</td>\n",
       "      <td>1</td>\n",
       "    </tr>\n",
       "    <tr>\n",
       "      <th>1</th>\n",
       "      <td>1</td>\n",
       "      <td>1</td>\n",
       "      <td>0</td>\n",
       "      <td>38.0</td>\n",
       "      <td>1</td>\n",
       "      <td>0</td>\n",
       "      <td>71.2833</td>\n",
       "      <td>0</td>\n",
       "      <td>0</td>\n",
       "    </tr>\n",
       "  </tbody>\n",
       "</table>\n",
       "</div>"
      ],
      "text/plain": [
       "   Survived  Pclass  Sex   Age  SibSp  Parch     Fare  Embarked_Q  Embarked_S\n",
       "0         0       3    1  22.0      1      0   7.2500           0           1\n",
       "1         1       1    0  38.0      1      0  71.2833           0           0"
      ]
     },
     "execution_count": 14,
     "metadata": {},
     "output_type": "execute_result"
    }
   ],
   "source": [
    "train.head(2)"
   ]
  },
  {
   "cell_type": "code",
   "execution_count": 15,
   "id": "11273494",
   "metadata": {
    "execution": {
     "iopub.execute_input": "2022-07-20T03:51:24.465010Z",
     "iopub.status.busy": "2022-07-20T03:51:24.464624Z",
     "iopub.status.idle": "2022-07-20T03:51:24.471467Z",
     "shell.execute_reply": "2022-07-20T03:51:24.470433Z"
    },
    "papermill": {
     "duration": 0.019646,
     "end_time": "2022-07-20T03:51:24.473813",
     "exception": false,
     "start_time": "2022-07-20T03:51:24.454167",
     "status": "completed"
    },
    "tags": []
   },
   "outputs": [],
   "source": [
    "X = train.iloc[:,1:].values\n",
    "y = train.iloc[:,0].values\n"
   ]
  },
  {
   "cell_type": "code",
   "execution_count": 16,
   "id": "f5d69406",
   "metadata": {
    "execution": {
     "iopub.execute_input": "2022-07-20T03:51:24.494278Z",
     "iopub.status.busy": "2022-07-20T03:51:24.493857Z",
     "iopub.status.idle": "2022-07-20T03:51:24.500647Z",
     "shell.execute_reply": "2022-07-20T03:51:24.499322Z"
    },
    "papermill": {
     "duration": 0.01989,
     "end_time": "2022-07-20T03:51:24.502910",
     "exception": false,
     "start_time": "2022-07-20T03:51:24.483020",
     "status": "completed"
    },
    "tags": []
   },
   "outputs": [],
   "source": [
    "sc = StandardScaler()\n",
    "X = sc.fit_transform(X)"
   ]
  },
  {
   "cell_type": "code",
   "execution_count": 17,
   "id": "223b70c7",
   "metadata": {
    "execution": {
     "iopub.execute_input": "2022-07-20T03:51:24.522784Z",
     "iopub.status.busy": "2022-07-20T03:51:24.522400Z",
     "iopub.status.idle": "2022-07-20T03:51:24.527287Z",
     "shell.execute_reply": "2022-07-20T03:51:24.526190Z"
    },
    "papermill": {
     "duration": 0.017372,
     "end_time": "2022-07-20T03:51:24.529494",
     "exception": false,
     "start_time": "2022-07-20T03:51:24.512122",
     "status": "completed"
    },
    "tags": []
   },
   "outputs": [],
   "source": [
    "rfc = RandomForestClassifier()\n"
   ]
  },
  {
   "cell_type": "code",
   "execution_count": 18,
   "id": "7f3fd84e",
   "metadata": {
    "execution": {
     "iopub.execute_input": "2022-07-20T03:51:24.549703Z",
     "iopub.status.busy": "2022-07-20T03:51:24.549277Z",
     "iopub.status.idle": "2022-07-20T03:51:24.555183Z",
     "shell.execute_reply": "2022-07-20T03:51:24.554357Z"
    },
    "papermill": {
     "duration": 0.018248,
     "end_time": "2022-07-20T03:51:24.557056",
     "exception": false,
     "start_time": "2022-07-20T03:51:24.538808",
     "status": "completed"
    },
    "tags": []
   },
   "outputs": [],
   "source": [
    "X_train,X_test,y_train,y_test = train_test_split(X,y,test_size=0.2,random_state=42)"
   ]
  },
  {
   "cell_type": "code",
   "execution_count": 19,
   "id": "709134e2",
   "metadata": {
    "execution": {
     "iopub.execute_input": "2022-07-20T03:51:24.577064Z",
     "iopub.status.busy": "2022-07-20T03:51:24.576649Z",
     "iopub.status.idle": "2022-07-20T03:51:24.582259Z",
     "shell.execute_reply": "2022-07-20T03:51:24.581309Z"
    },
    "papermill": {
     "duration": 0.018139,
     "end_time": "2022-07-20T03:51:24.584455",
     "exception": false,
     "start_time": "2022-07-20T03:51:24.566316",
     "status": "completed"
    },
    "tags": []
   },
   "outputs": [],
   "source": [
    "grid_params = ({'n_estimators':[100,200,300,400],'criterion':['gini', 'entropy', 'log_loss']})\n",
    "grid_search = GridSearchCV(estimator=rfc,scoring='accuracy',\n",
    "             param_grid=grid_params)"
   ]
  },
  {
   "cell_type": "code",
   "execution_count": 20,
   "id": "7ba7a70b",
   "metadata": {
    "execution": {
     "iopub.execute_input": "2022-07-20T03:51:24.605509Z",
     "iopub.status.busy": "2022-07-20T03:51:24.605133Z",
     "iopub.status.idle": "2022-07-20T03:51:42.936071Z",
     "shell.execute_reply": "2022-07-20T03:51:42.934796Z"
    },
    "papermill": {
     "duration": 18.345635,
     "end_time": "2022-07-20T03:51:42.939993",
     "exception": false,
     "start_time": "2022-07-20T03:51:24.594358",
     "status": "completed"
    },
    "tags": []
   },
   "outputs": [
    {
     "data": {
      "text/plain": [
       "{'criterion': 'entropy', 'n_estimators': 300}"
      ]
     },
     "execution_count": 20,
     "metadata": {},
     "output_type": "execute_result"
    }
   ],
   "source": [
    "grid_search.fit(X_train,y_train)\n",
    "grid_search.best_params_"
   ]
  },
  {
   "cell_type": "code",
   "execution_count": 21,
   "id": "3f5a0120",
   "metadata": {
    "execution": {
     "iopub.execute_input": "2022-07-20T03:51:42.962170Z",
     "iopub.status.busy": "2022-07-20T03:51:42.961785Z",
     "iopub.status.idle": "2022-07-20T03:51:43.034757Z",
     "shell.execute_reply": "2022-07-20T03:51:43.033531Z"
    },
    "papermill": {
     "duration": 0.086933,
     "end_time": "2022-07-20T03:51:43.037362",
     "exception": false,
     "start_time": "2022-07-20T03:51:42.950429",
     "status": "completed"
    },
    "tags": []
   },
   "outputs": [
    {
     "data": {
      "text/plain": [
       "0.9803370786516854"
      ]
     },
     "execution_count": 21,
     "metadata": {},
     "output_type": "execute_result"
    }
   ],
   "source": [
    "grid_search.score(X_train,y_train)"
   ]
  },
  {
   "cell_type": "code",
   "execution_count": 22,
   "id": "d33a5ff7",
   "metadata": {
    "execution": {
     "iopub.execute_input": "2022-07-20T03:51:43.059007Z",
     "iopub.status.busy": "2022-07-20T03:51:43.057820Z",
     "iopub.status.idle": "2022-07-20T03:51:43.064102Z",
     "shell.execute_reply": "2022-07-20T03:51:43.062894Z"
    },
    "papermill": {
     "duration": 0.026448,
     "end_time": "2022-07-20T03:51:43.073547",
     "exception": false,
     "start_time": "2022-07-20T03:51:43.047099",
     "status": "completed"
    },
    "tags": []
   },
   "outputs": [],
   "source": [
    "rfc = RandomForestClassifier(criterion= 'entropy', n_estimators= 400)"
   ]
  },
  {
   "cell_type": "code",
   "execution_count": 23,
   "id": "c480a2c3",
   "metadata": {
    "execution": {
     "iopub.execute_input": "2022-07-20T03:51:43.101337Z",
     "iopub.status.busy": "2022-07-20T03:51:43.100383Z",
     "iopub.status.idle": "2022-07-20T03:51:43.812184Z",
     "shell.execute_reply": "2022-07-20T03:51:43.811079Z"
    },
    "papermill": {
     "duration": 0.727777,
     "end_time": "2022-07-20T03:51:43.814821",
     "exception": false,
     "start_time": "2022-07-20T03:51:43.087044",
     "status": "completed"
    },
    "tags": []
   },
   "outputs": [
    {
     "data": {
      "text/plain": [
       "RandomForestClassifier(criterion='entropy', n_estimators=400)"
      ]
     },
     "execution_count": 23,
     "metadata": {},
     "output_type": "execute_result"
    }
   ],
   "source": [
    "rfc.fit(X_train,y_train)"
   ]
  },
  {
   "cell_type": "code",
   "execution_count": 24,
   "id": "913edd79",
   "metadata": {
    "execution": {
     "iopub.execute_input": "2022-07-20T03:51:43.836147Z",
     "iopub.status.busy": "2022-07-20T03:51:43.835752Z",
     "iopub.status.idle": "2022-07-20T03:51:43.897238Z",
     "shell.execute_reply": "2022-07-20T03:51:43.896013Z"
    },
    "papermill": {
     "duration": 0.074649,
     "end_time": "2022-07-20T03:51:43.899488",
     "exception": false,
     "start_time": "2022-07-20T03:51:43.824839",
     "status": "completed"
    },
    "tags": []
   },
   "outputs": [
    {
     "data": {
      "text/plain": [
       "0.8212290502793296"
      ]
     },
     "execution_count": 24,
     "metadata": {},
     "output_type": "execute_result"
    }
   ],
   "source": [
    "prediction = rfc.predict(X_test)\n",
    "accuracy_score(prediction,y_test)"
   ]
  },
  {
   "cell_type": "code",
   "execution_count": 25,
   "id": "e56ef8b5",
   "metadata": {
    "execution": {
     "iopub.execute_input": "2022-07-20T03:51:43.921077Z",
     "iopub.status.busy": "2022-07-20T03:51:43.920735Z",
     "iopub.status.idle": "2022-07-20T03:51:43.929037Z",
     "shell.execute_reply": "2022-07-20T03:51:43.927825Z"
    },
    "papermill": {
     "duration": 0.02182,
     "end_time": "2022-07-20T03:51:43.931425",
     "exception": false,
     "start_time": "2022-07-20T03:51:43.909605",
     "status": "completed"
    },
    "tags": []
   },
   "outputs": [
    {
     "data": {
      "text/plain": [
       "array([[92, 19],\n",
       "       [13, 55]])"
      ]
     },
     "execution_count": 25,
     "metadata": {},
     "output_type": "execute_result"
    }
   ],
   "source": [
    "cm = confusion_matrix(prediction,y_test)\n",
    "cm"
   ]
  },
  {
   "cell_type": "code",
   "execution_count": 26,
   "id": "25cd3d86",
   "metadata": {
    "execution": {
     "iopub.execute_input": "2022-07-20T03:51:43.952586Z",
     "iopub.status.busy": "2022-07-20T03:51:43.952179Z",
     "iopub.status.idle": "2022-07-20T03:51:43.963337Z",
     "shell.execute_reply": "2022-07-20T03:51:43.961840Z"
    },
    "papermill": {
     "duration": 0.024562,
     "end_time": "2022-07-20T03:51:43.965633",
     "exception": false,
     "start_time": "2022-07-20T03:51:43.941071",
     "status": "completed"
    },
    "tags": []
   },
   "outputs": [
    {
     "name": "stdout",
     "output_type": "stream",
     "text": [
      "              precision    recall  f1-score   support\n",
      "\n",
      "           0       0.88      0.83      0.85       111\n",
      "           1       0.74      0.81      0.77        68\n",
      "\n",
      "    accuracy                           0.82       179\n",
      "   macro avg       0.81      0.82      0.81       179\n",
      "weighted avg       0.83      0.82      0.82       179\n",
      "\n"
     ]
    }
   ],
   "source": [
    "print(classification_report(prediction,y_test))"
   ]
  },
  {
   "cell_type": "code",
   "execution_count": 27,
   "id": "f545cd30",
   "metadata": {
    "execution": {
     "iopub.execute_input": "2022-07-20T03:51:43.987375Z",
     "iopub.status.busy": "2022-07-20T03:51:43.986973Z",
     "iopub.status.idle": "2022-07-20T03:51:44.009366Z",
     "shell.execute_reply": "2022-07-20T03:51:44.008563Z"
    },
    "papermill": {
     "duration": 0.035406,
     "end_time": "2022-07-20T03:51:44.011259",
     "exception": false,
     "start_time": "2022-07-20T03:51:43.975853",
     "status": "completed"
    },
    "tags": []
   },
   "outputs": [
    {
     "data": {
      "text/html": [
       "<div>\n",
       "<style scoped>\n",
       "    .dataframe tbody tr th:only-of-type {\n",
       "        vertical-align: middle;\n",
       "    }\n",
       "\n",
       "    .dataframe tbody tr th {\n",
       "        vertical-align: top;\n",
       "    }\n",
       "\n",
       "    .dataframe thead th {\n",
       "        text-align: right;\n",
       "    }\n",
       "</style>\n",
       "<table border=\"1\" class=\"dataframe\">\n",
       "  <thead>\n",
       "    <tr style=\"text-align: right;\">\n",
       "      <th></th>\n",
       "      <th>PassengerId</th>\n",
       "      <th>Pclass</th>\n",
       "      <th>Name</th>\n",
       "      <th>Sex</th>\n",
       "      <th>Age</th>\n",
       "      <th>SibSp</th>\n",
       "      <th>Parch</th>\n",
       "      <th>Ticket</th>\n",
       "      <th>Fare</th>\n",
       "      <th>Cabin</th>\n",
       "      <th>Embarked</th>\n",
       "    </tr>\n",
       "  </thead>\n",
       "  <tbody>\n",
       "    <tr>\n",
       "      <th>0</th>\n",
       "      <td>892</td>\n",
       "      <td>3</td>\n",
       "      <td>Kelly, Mr. James</td>\n",
       "      <td>male</td>\n",
       "      <td>34.5</td>\n",
       "      <td>0</td>\n",
       "      <td>0</td>\n",
       "      <td>330911</td>\n",
       "      <td>7.8292</td>\n",
       "      <td>NaN</td>\n",
       "      <td>Q</td>\n",
       "    </tr>\n",
       "    <tr>\n",
       "      <th>1</th>\n",
       "      <td>893</td>\n",
       "      <td>3</td>\n",
       "      <td>Wilkes, Mrs. James (Ellen Needs)</td>\n",
       "      <td>female</td>\n",
       "      <td>47.0</td>\n",
       "      <td>1</td>\n",
       "      <td>0</td>\n",
       "      <td>363272</td>\n",
       "      <td>7.0000</td>\n",
       "      <td>NaN</td>\n",
       "      <td>S</td>\n",
       "    </tr>\n",
       "    <tr>\n",
       "      <th>2</th>\n",
       "      <td>894</td>\n",
       "      <td>2</td>\n",
       "      <td>Myles, Mr. Thomas Francis</td>\n",
       "      <td>male</td>\n",
       "      <td>62.0</td>\n",
       "      <td>0</td>\n",
       "      <td>0</td>\n",
       "      <td>240276</td>\n",
       "      <td>9.6875</td>\n",
       "      <td>NaN</td>\n",
       "      <td>Q</td>\n",
       "    </tr>\n",
       "    <tr>\n",
       "      <th>3</th>\n",
       "      <td>895</td>\n",
       "      <td>3</td>\n",
       "      <td>Wirz, Mr. Albert</td>\n",
       "      <td>male</td>\n",
       "      <td>27.0</td>\n",
       "      <td>0</td>\n",
       "      <td>0</td>\n",
       "      <td>315154</td>\n",
       "      <td>8.6625</td>\n",
       "      <td>NaN</td>\n",
       "      <td>S</td>\n",
       "    </tr>\n",
       "    <tr>\n",
       "      <th>4</th>\n",
       "      <td>896</td>\n",
       "      <td>3</td>\n",
       "      <td>Hirvonen, Mrs. Alexander (Helga E Lindqvist)</td>\n",
       "      <td>female</td>\n",
       "      <td>22.0</td>\n",
       "      <td>1</td>\n",
       "      <td>1</td>\n",
       "      <td>3101298</td>\n",
       "      <td>12.2875</td>\n",
       "      <td>NaN</td>\n",
       "      <td>S</td>\n",
       "    </tr>\n",
       "  </tbody>\n",
       "</table>\n",
       "</div>"
      ],
      "text/plain": [
       "   PassengerId  Pclass                                          Name     Sex  \\\n",
       "0          892       3                              Kelly, Mr. James    male   \n",
       "1          893       3              Wilkes, Mrs. James (Ellen Needs)  female   \n",
       "2          894       2                     Myles, Mr. Thomas Francis    male   \n",
       "3          895       3                              Wirz, Mr. Albert    male   \n",
       "4          896       3  Hirvonen, Mrs. Alexander (Helga E Lindqvist)  female   \n",
       "\n",
       "    Age  SibSp  Parch   Ticket     Fare Cabin Embarked  \n",
       "0  34.5      0      0   330911   7.8292   NaN        Q  \n",
       "1  47.0      1      0   363272   7.0000   NaN        S  \n",
       "2  62.0      0      0   240276   9.6875   NaN        Q  \n",
       "3  27.0      0      0   315154   8.6625   NaN        S  \n",
       "4  22.0      1      1  3101298  12.2875   NaN        S  "
      ]
     },
     "execution_count": 27,
     "metadata": {},
     "output_type": "execute_result"
    }
   ],
   "source": [
    "test = pd.read_csv('../input/titanic/test.csv')\n",
    "test.head()"
   ]
  },
  {
   "cell_type": "code",
   "execution_count": 28,
   "id": "ced9edfa",
   "metadata": {
    "execution": {
     "iopub.execute_input": "2022-07-20T03:51:44.032884Z",
     "iopub.status.busy": "2022-07-20T03:51:44.032517Z",
     "iopub.status.idle": "2022-07-20T03:51:44.039254Z",
     "shell.execute_reply": "2022-07-20T03:51:44.038275Z"
    },
    "papermill": {
     "duration": 0.01996,
     "end_time": "2022-07-20T03:51:44.041375",
     "exception": false,
     "start_time": "2022-07-20T03:51:44.021415",
     "status": "completed"
    },
    "tags": []
   },
   "outputs": [],
   "source": [
    "del test['Name'],test['Ticket'],test['Cabin']"
   ]
  },
  {
   "cell_type": "code",
   "execution_count": 29,
   "id": "c665a7d9",
   "metadata": {
    "execution": {
     "iopub.execute_input": "2022-07-20T03:51:44.063453Z",
     "iopub.status.busy": "2022-07-20T03:51:44.063033Z",
     "iopub.status.idle": "2022-07-20T03:51:44.072268Z",
     "shell.execute_reply": "2022-07-20T03:51:44.071165Z"
    },
    "papermill": {
     "duration": 0.023021,
     "end_time": "2022-07-20T03:51:44.074416",
     "exception": false,
     "start_time": "2022-07-20T03:51:44.051395",
     "status": "completed"
    },
    "tags": []
   },
   "outputs": [
    {
     "data": {
      "text/plain": [
       "PassengerId     0\n",
       "Pclass          0\n",
       "Sex             0\n",
       "Age            86\n",
       "SibSp           0\n",
       "Parch           0\n",
       "Fare            1\n",
       "Embarked        0\n",
       "dtype: int64"
      ]
     },
     "execution_count": 29,
     "metadata": {},
     "output_type": "execute_result"
    }
   ],
   "source": [
    "test.isnull().sum()"
   ]
  },
  {
   "cell_type": "code",
   "execution_count": 30,
   "id": "5980adbb",
   "metadata": {
    "execution": {
     "iopub.execute_input": "2022-07-20T03:51:44.096029Z",
     "iopub.status.busy": "2022-07-20T03:51:44.095669Z",
     "iopub.status.idle": "2022-07-20T03:51:44.102038Z",
     "shell.execute_reply": "2022-07-20T03:51:44.100715Z"
    },
    "papermill": {
     "duration": 0.01943,
     "end_time": "2022-07-20T03:51:44.103922",
     "exception": false,
     "start_time": "2022-07-20T03:51:44.084492",
     "status": "completed"
    },
    "tags": []
   },
   "outputs": [],
   "source": [
    "test.Age.fillna(test.Age.mean(),inplace = True)"
   ]
  },
  {
   "cell_type": "code",
   "execution_count": 31,
   "id": "00db1609",
   "metadata": {
    "execution": {
     "iopub.execute_input": "2022-07-20T03:51:44.126391Z",
     "iopub.status.busy": "2022-07-20T03:51:44.125994Z",
     "iopub.status.idle": "2022-07-20T03:51:44.132381Z",
     "shell.execute_reply": "2022-07-20T03:51:44.131307Z"
    },
    "papermill": {
     "duration": 0.020477,
     "end_time": "2022-07-20T03:51:44.134506",
     "exception": false,
     "start_time": "2022-07-20T03:51:44.114029",
     "status": "completed"
    },
    "tags": []
   },
   "outputs": [],
   "source": [
    "test['Fare'].fillna(test.Fare.mean(),inplace=True)"
   ]
  },
  {
   "cell_type": "code",
   "execution_count": 32,
   "id": "ecd9ed6d",
   "metadata": {
    "execution": {
     "iopub.execute_input": "2022-07-20T03:51:44.156599Z",
     "iopub.status.busy": "2022-07-20T03:51:44.156231Z",
     "iopub.status.idle": "2022-07-20T03:51:44.166163Z",
     "shell.execute_reply": "2022-07-20T03:51:44.165042Z"
    },
    "papermill": {
     "duration": 0.023563,
     "end_time": "2022-07-20T03:51:44.168270",
     "exception": false,
     "start_time": "2022-07-20T03:51:44.144707",
     "status": "completed"
    },
    "tags": []
   },
   "outputs": [
    {
     "data": {
      "text/plain": [
       "PassengerId    0\n",
       "Pclass         0\n",
       "Sex            0\n",
       "Age            0\n",
       "SibSp          0\n",
       "Parch          0\n",
       "Fare           0\n",
       "Embarked       0\n",
       "dtype: int64"
      ]
     },
     "execution_count": 32,
     "metadata": {},
     "output_type": "execute_result"
    }
   ],
   "source": [
    "test.isnull().sum()"
   ]
  },
  {
   "cell_type": "code",
   "execution_count": 33,
   "id": "9cd188a2",
   "metadata": {
    "execution": {
     "iopub.execute_input": "2022-07-20T03:51:44.190710Z",
     "iopub.status.busy": "2022-07-20T03:51:44.190326Z",
     "iopub.status.idle": "2022-07-20T03:51:44.197533Z",
     "shell.execute_reply": "2022-07-20T03:51:44.196126Z"
    },
    "papermill": {
     "duration": 0.021239,
     "end_time": "2022-07-20T03:51:44.199898",
     "exception": false,
     "start_time": "2022-07-20T03:51:44.178659",
     "status": "completed"
    },
    "tags": []
   },
   "outputs": [],
   "source": [
    "test.Sex = test.Sex.map({'male':1,'female':0})"
   ]
  },
  {
   "cell_type": "code",
   "execution_count": 34,
   "id": "37d27ebc",
   "metadata": {
    "execution": {
     "iopub.execute_input": "2022-07-20T03:51:44.222777Z",
     "iopub.status.busy": "2022-07-20T03:51:44.222413Z",
     "iopub.status.idle": "2022-07-20T03:51:44.231999Z",
     "shell.execute_reply": "2022-07-20T03:51:44.230704Z"
    },
    "papermill": {
     "duration": 0.024006,
     "end_time": "2022-07-20T03:51:44.234259",
     "exception": false,
     "start_time": "2022-07-20T03:51:44.210253",
     "status": "completed"
    },
    "tags": []
   },
   "outputs": [],
   "source": [
    "test = pd.get_dummies(test,columns=['Embarked'],drop_first=True)"
   ]
  },
  {
   "cell_type": "code",
   "execution_count": 35,
   "id": "597ab62c",
   "metadata": {
    "execution": {
     "iopub.execute_input": "2022-07-20T03:51:44.257018Z",
     "iopub.status.busy": "2022-07-20T03:51:44.256654Z",
     "iopub.status.idle": "2022-07-20T03:51:44.269132Z",
     "shell.execute_reply": "2022-07-20T03:51:44.268010Z"
    },
    "papermill": {
     "duration": 0.026646,
     "end_time": "2022-07-20T03:51:44.271284",
     "exception": false,
     "start_time": "2022-07-20T03:51:44.244638",
     "status": "completed"
    },
    "tags": []
   },
   "outputs": [
    {
     "data": {
      "text/html": [
       "<div>\n",
       "<style scoped>\n",
       "    .dataframe tbody tr th:only-of-type {\n",
       "        vertical-align: middle;\n",
       "    }\n",
       "\n",
       "    .dataframe tbody tr th {\n",
       "        vertical-align: top;\n",
       "    }\n",
       "\n",
       "    .dataframe thead th {\n",
       "        text-align: right;\n",
       "    }\n",
       "</style>\n",
       "<table border=\"1\" class=\"dataframe\">\n",
       "  <thead>\n",
       "    <tr style=\"text-align: right;\">\n",
       "      <th></th>\n",
       "      <th>PassengerId</th>\n",
       "      <th>Pclass</th>\n",
       "      <th>Sex</th>\n",
       "      <th>Age</th>\n",
       "      <th>SibSp</th>\n",
       "      <th>Parch</th>\n",
       "      <th>Fare</th>\n",
       "      <th>Embarked_Q</th>\n",
       "      <th>Embarked_S</th>\n",
       "    </tr>\n",
       "  </thead>\n",
       "  <tbody>\n",
       "    <tr>\n",
       "      <th>0</th>\n",
       "      <td>892</td>\n",
       "      <td>3</td>\n",
       "      <td>1</td>\n",
       "      <td>34.5</td>\n",
       "      <td>0</td>\n",
       "      <td>0</td>\n",
       "      <td>7.8292</td>\n",
       "      <td>1</td>\n",
       "      <td>0</td>\n",
       "    </tr>\n",
       "    <tr>\n",
       "      <th>1</th>\n",
       "      <td>893</td>\n",
       "      <td>3</td>\n",
       "      <td>0</td>\n",
       "      <td>47.0</td>\n",
       "      <td>1</td>\n",
       "      <td>0</td>\n",
       "      <td>7.0000</td>\n",
       "      <td>0</td>\n",
       "      <td>1</td>\n",
       "    </tr>\n",
       "  </tbody>\n",
       "</table>\n",
       "</div>"
      ],
      "text/plain": [
       "   PassengerId  Pclass  Sex   Age  SibSp  Parch    Fare  Embarked_Q  \\\n",
       "0          892       3    1  34.5      0      0  7.8292           1   \n",
       "1          893       3    0  47.0      1      0  7.0000           0   \n",
       "\n",
       "   Embarked_S  \n",
       "0           0  \n",
       "1           1  "
      ]
     },
     "execution_count": 35,
     "metadata": {},
     "output_type": "execute_result"
    }
   ],
   "source": [
    "test.head(2)"
   ]
  },
  {
   "cell_type": "code",
   "execution_count": 36,
   "id": "a1db1e25",
   "metadata": {
    "execution": {
     "iopub.execute_input": "2022-07-20T03:51:44.293465Z",
     "iopub.status.busy": "2022-07-20T03:51:44.293079Z",
     "iopub.status.idle": "2022-07-20T03:51:44.300738Z",
     "shell.execute_reply": "2022-07-20T03:51:44.299640Z"
    },
    "papermill": {
     "duration": 0.021506,
     "end_time": "2022-07-20T03:51:44.303208",
     "exception": false,
     "start_time": "2022-07-20T03:51:44.281702",
     "status": "completed"
    },
    "tags": []
   },
   "outputs": [],
   "source": [
    "inputs = test.iloc[:,1:].values\n",
    "inputs = sc.transform(inputs)"
   ]
  },
  {
   "cell_type": "code",
   "execution_count": 37,
   "id": "b67a5ee7",
   "metadata": {
    "execution": {
     "iopub.execute_input": "2022-07-20T03:51:44.325830Z",
     "iopub.status.busy": "2022-07-20T03:51:44.325441Z",
     "iopub.status.idle": "2022-07-20T03:51:44.404676Z",
     "shell.execute_reply": "2022-07-20T03:51:44.403570Z"
    },
    "papermill": {
     "duration": 0.09309,
     "end_time": "2022-07-20T03:51:44.406869",
     "exception": false,
     "start_time": "2022-07-20T03:51:44.313779",
     "status": "completed"
    },
    "tags": []
   },
   "outputs": [
    {
     "data": {
      "text/html": [
       "<div>\n",
       "<style scoped>\n",
       "    .dataframe tbody tr th:only-of-type {\n",
       "        vertical-align: middle;\n",
       "    }\n",
       "\n",
       "    .dataframe tbody tr th {\n",
       "        vertical-align: top;\n",
       "    }\n",
       "\n",
       "    .dataframe thead th {\n",
       "        text-align: right;\n",
       "    }\n",
       "</style>\n",
       "<table border=\"1\" class=\"dataframe\">\n",
       "  <thead>\n",
       "    <tr style=\"text-align: right;\">\n",
       "      <th></th>\n",
       "      <th>Survived</th>\n",
       "    </tr>\n",
       "  </thead>\n",
       "  <tbody>\n",
       "    <tr>\n",
       "      <th>0</th>\n",
       "      <td>0</td>\n",
       "    </tr>\n",
       "    <tr>\n",
       "      <th>1</th>\n",
       "      <td>0</td>\n",
       "    </tr>\n",
       "    <tr>\n",
       "      <th>2</th>\n",
       "      <td>0</td>\n",
       "    </tr>\n",
       "    <tr>\n",
       "      <th>3</th>\n",
       "      <td>1</td>\n",
       "    </tr>\n",
       "    <tr>\n",
       "      <th>4</th>\n",
       "      <td>0</td>\n",
       "    </tr>\n",
       "    <tr>\n",
       "      <th>...</th>\n",
       "      <td>...</td>\n",
       "    </tr>\n",
       "    <tr>\n",
       "      <th>413</th>\n",
       "      <td>0</td>\n",
       "    </tr>\n",
       "    <tr>\n",
       "      <th>414</th>\n",
       "      <td>1</td>\n",
       "    </tr>\n",
       "    <tr>\n",
       "      <th>415</th>\n",
       "      <td>0</td>\n",
       "    </tr>\n",
       "    <tr>\n",
       "      <th>416</th>\n",
       "      <td>0</td>\n",
       "    </tr>\n",
       "    <tr>\n",
       "      <th>417</th>\n",
       "      <td>0</td>\n",
       "    </tr>\n",
       "  </tbody>\n",
       "</table>\n",
       "<p>418 rows × 1 columns</p>\n",
       "</div>"
      ],
      "text/plain": [
       "     Survived\n",
       "0           0\n",
       "1           0\n",
       "2           0\n",
       "3           1\n",
       "4           0\n",
       "..        ...\n",
       "413         0\n",
       "414         1\n",
       "415         0\n",
       "416         0\n",
       "417         0\n",
       "\n",
       "[418 rows x 1 columns]"
      ]
     },
     "execution_count": 37,
     "metadata": {},
     "output_type": "execute_result"
    }
   ],
   "source": [
    "final_prediction = rfc.predict(inputs)\n",
    "final_prediction = pd.DataFrame(final_prediction)\n",
    "final_prediction.columns=['Survived']\n",
    "final_prediction"
   ]
  },
  {
   "cell_type": "code",
   "execution_count": 38,
   "id": "7ef64229",
   "metadata": {
    "execution": {
     "iopub.execute_input": "2022-07-20T03:51:44.429980Z",
     "iopub.status.busy": "2022-07-20T03:51:44.428983Z",
     "iopub.status.idle": "2022-07-20T03:51:44.435842Z",
     "shell.execute_reply": "2022-07-20T03:51:44.434912Z"
    },
    "papermill": {
     "duration": 0.02094,
     "end_time": "2022-07-20T03:51:44.438297",
     "exception": false,
     "start_time": "2022-07-20T03:51:44.417357",
     "status": "completed"
    },
    "tags": []
   },
   "outputs": [],
   "source": [
    "id = pd.DataFrame(test.PassengerId)\n",
    "id.columns = ['PassengerId']\n",
    "\n"
   ]
  },
  {
   "cell_type": "code",
   "execution_count": 39,
   "id": "8d3ff2f4",
   "metadata": {
    "execution": {
     "iopub.execute_input": "2022-07-20T03:51:44.462174Z",
     "iopub.status.busy": "2022-07-20T03:51:44.461187Z",
     "iopub.status.idle": "2022-07-20T03:51:44.473821Z",
     "shell.execute_reply": "2022-07-20T03:51:44.472683Z"
    },
    "papermill": {
     "duration": 0.026555,
     "end_time": "2022-07-20T03:51:44.476131",
     "exception": false,
     "start_time": "2022-07-20T03:51:44.449576",
     "status": "completed"
    },
    "tags": []
   },
   "outputs": [
    {
     "data": {
      "text/html": [
       "<div>\n",
       "<style scoped>\n",
       "    .dataframe tbody tr th:only-of-type {\n",
       "        vertical-align: middle;\n",
       "    }\n",
       "\n",
       "    .dataframe tbody tr th {\n",
       "        vertical-align: top;\n",
       "    }\n",
       "\n",
       "    .dataframe thead th {\n",
       "        text-align: right;\n",
       "    }\n",
       "</style>\n",
       "<table border=\"1\" class=\"dataframe\">\n",
       "  <thead>\n",
       "    <tr style=\"text-align: right;\">\n",
       "      <th></th>\n",
       "      <th>PassengerId</th>\n",
       "      <th>Survived</th>\n",
       "    </tr>\n",
       "  </thead>\n",
       "  <tbody>\n",
       "    <tr>\n",
       "      <th>0</th>\n",
       "      <td>892</td>\n",
       "      <td>0</td>\n",
       "    </tr>\n",
       "    <tr>\n",
       "      <th>1</th>\n",
       "      <td>893</td>\n",
       "      <td>0</td>\n",
       "    </tr>\n",
       "    <tr>\n",
       "      <th>2</th>\n",
       "      <td>894</td>\n",
       "      <td>0</td>\n",
       "    </tr>\n",
       "    <tr>\n",
       "      <th>3</th>\n",
       "      <td>895</td>\n",
       "      <td>1</td>\n",
       "    </tr>\n",
       "    <tr>\n",
       "      <th>4</th>\n",
       "      <td>896</td>\n",
       "      <td>0</td>\n",
       "    </tr>\n",
       "    <tr>\n",
       "      <th>...</th>\n",
       "      <td>...</td>\n",
       "      <td>...</td>\n",
       "    </tr>\n",
       "    <tr>\n",
       "      <th>413</th>\n",
       "      <td>1305</td>\n",
       "      <td>0</td>\n",
       "    </tr>\n",
       "    <tr>\n",
       "      <th>414</th>\n",
       "      <td>1306</td>\n",
       "      <td>1</td>\n",
       "    </tr>\n",
       "    <tr>\n",
       "      <th>415</th>\n",
       "      <td>1307</td>\n",
       "      <td>0</td>\n",
       "    </tr>\n",
       "    <tr>\n",
       "      <th>416</th>\n",
       "      <td>1308</td>\n",
       "      <td>0</td>\n",
       "    </tr>\n",
       "    <tr>\n",
       "      <th>417</th>\n",
       "      <td>1309</td>\n",
       "      <td>0</td>\n",
       "    </tr>\n",
       "  </tbody>\n",
       "</table>\n",
       "<p>418 rows × 2 columns</p>\n",
       "</div>"
      ],
      "text/plain": [
       "     PassengerId  Survived\n",
       "0            892         0\n",
       "1            893         0\n",
       "2            894         0\n",
       "3            895         1\n",
       "4            896         0\n",
       "..           ...       ...\n",
       "413         1305         0\n",
       "414         1306         1\n",
       "415         1307         0\n",
       "416         1308         0\n",
       "417         1309         0\n",
       "\n",
       "[418 rows x 2 columns]"
      ]
     },
     "execution_count": 39,
     "metadata": {},
     "output_type": "execute_result"
    }
   ],
   "source": [
    "submission = pd.concat([id,final_prediction],axis=1)\n",
    "submission"
   ]
  },
  {
   "cell_type": "code",
   "execution_count": 40,
   "id": "af2cbbcd",
   "metadata": {
    "execution": {
     "iopub.execute_input": "2022-07-20T03:51:44.506350Z",
     "iopub.status.busy": "2022-07-20T03:51:44.505900Z",
     "iopub.status.idle": "2022-07-20T03:51:44.516162Z",
     "shell.execute_reply": "2022-07-20T03:51:44.514922Z"
    },
    "papermill": {
     "duration": 0.031197,
     "end_time": "2022-07-20T03:51:44.518782",
     "exception": false,
     "start_time": "2022-07-20T03:51:44.487585",
     "status": "completed"
    },
    "tags": []
   },
   "outputs": [],
   "source": [
    "submission.to_csv('submission.csv',index=False)"
   ]
  },
  {
   "cell_type": "code",
   "execution_count": null,
   "id": "e6e31a51",
   "metadata": {
    "papermill": {
     "duration": 0.010389,
     "end_time": "2022-07-20T03:51:44.541473",
     "exception": false,
     "start_time": "2022-07-20T03:51:44.531084",
     "status": "completed"
    },
    "tags": []
   },
   "outputs": [],
   "source": []
  }
 ],
 "metadata": {
  "kernelspec": {
   "display_name": "Python 3",
   "language": "python",
   "name": "python3"
  },
  "language_info": {
   "codemirror_mode": {
    "name": "ipython",
    "version": 3
   },
   "file_extension": ".py",
   "mimetype": "text/x-python",
   "name": "python",
   "nbconvert_exporter": "python",
   "pygments_lexer": "ipython3",
   "version": "3.7.12"
  },
  "papermill": {
   "default_parameters": {},
   "duration": 32.092688,
   "end_time": "2022-07-20T03:51:45.280299",
   "environment_variables": {},
   "exception": null,
   "input_path": "__notebook__.ipynb",
   "output_path": "__notebook__.ipynb",
   "parameters": {},
   "start_time": "2022-07-20T03:51:13.187611",
   "version": "2.3.4"
  }
 },
 "nbformat": 4,
 "nbformat_minor": 5
}
